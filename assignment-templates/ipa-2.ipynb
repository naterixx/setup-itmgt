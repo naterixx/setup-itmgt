{
 "cells": [
  {
   "cell_type": "code",
   "execution_count": 4,
   "id": "acf45c81-3994-4cbb-aeb1-b533265b7c19",
   "metadata": {},
   "outputs": [
    {
     "data": {
      "text/plain": [
       "'D'"
      ]
     },
     "execution_count": 4,
     "metadata": {},
     "output_type": "execute_result"
    }
   ],
   "source": [
    "def shift_letter(letter, shift):\n",
    "    '''Shift Letter.\n",
    "    5 points.\n",
    "\n",
    "    Shift a letter right by the given number.\n",
    "    Wrap the letter around if it reaches the end of the alphabet.\n",
    "\n",
    "    Examples:\n",
    "    shift_letter(\"A\", 0) -> \"A\"\n",
    "    shift_letter(\"A\", 2) -> \"C\"\n",
    "    shift_letter(\"Z\", 1) -> \"A\"\n",
    "    shift_letter(\"X\", 5) -> \"C\"\n",
    "    shift_letter(\" \", _) -> \" \"\n",
    "\n",
    "    *Note: the single underscore `_` is used to acknowledge the presence\n",
    "        of a value without caring about its contents.\n",
    "\n",
    "    Parameters\n",
    "    ----------\n",
    "    letter: str\n",
    "        a single uppercase English letter, or a space.\n",
    "    shift: int\n",
    "        the number by which to shift the letter.\n",
    "\n",
    "    Returns\n",
    "    -------\n",
    "    str\n",
    "        the letter, shifted appropriately, if a letter.\n",
    "        a single space if the original letter was a space.\n",
    "    '''\n",
    "    # Replace `pass` with your code.\n",
    "    # Stay within the function. Only use the parameters as input. The function should return your answer.\n",
    "    if letter == \" \":\n",
    "        return \" \"\n",
    "\n",
    "    if len(letter) != 1 or not letter.isalpha() or not letter.isupper():\n",
    "        return \"Invalid input. Expected a single uppercase English letter or a space.\"\n",
    "\n",
    "    alphabet = \"ABCDEFGHIJKLMNOPQRSTUVWXYZ\"\n",
    "    alphabet_size = len(alphabet)\n",
    "    letter_index = alphabet.index(letter)\n",
    "    shifted_index = (letter_index + shift) % alphabet_size\n",
    "    shifted_letter = alphabet[shifted_index]\n",
    "\n",
    "    return shifted_letter\n",
    "\n",
    "shift_letter(\"A\",3)"
   ]
  },
  {
   "cell_type": "code",
   "execution_count": 12,
   "id": "da958981-5c6d-4841-bc1d-e8b21197f22e",
   "metadata": {
    "tags": []
   },
   "outputs": [
    {
     "data": {
      "text/plain": [
       "'iqqf oqtpkpi rq'"
      ]
     },
     "execution_count": 12,
     "metadata": {},
     "output_type": "execute_result"
    }
   ],
   "source": [
    "def caesar_cipher(message, shift):\n",
    "    '''Caesar Cipher.\n",
    "    10 points.\n",
    "\n",
    "    Apply a shift number to a string of uppercase English letters and spaces.\n",
    "\n",
    "    Parameters\n",
    "    ----------\n",
    "    message: str\n",
    "        a string of uppercase English letters and spaces.\n",
    "    shift: int\n",
    "        the number by which to shift the letters.\n",
    "\n",
    "    Returns\n",
    "    -------\n",
    "    str\n",
    "        the message, shifted appropriately.\n",
    "    '''\n",
    "    # Replace `pass` with your code.\n",
    "    # Stay within the function. Only use the parameters as input. The function should return your answer.\n",
    "    shifted_message = \"\"\n",
    "    alphabet = 'ABCDEFGHIJKLMNOPQRSTUVWXYZ'\n",
    "    alphabet_size = len(alphabet)\n",
    "\n",
    "    for char in message:\n",
    "        if char.isalpha():\n",
    "            is_uppercase = char.isupper()\n",
    "            char_index = alphabet.index(char.upper())\n",
    "            shifted_index = (char_index + shift) % alphabet_size\n",
    "            shifted_char = alphabet[shifted_index]\n",
    "            shifted_message += shifted_char if is_uppercase else shifted_char.lower()\n",
    "        else:\n",
    "            shifted_message += char\n",
    "\n",
    "    return shifted_message\n",
    "\n",
    "caesar_cipher(\"good morning po\",2)"
   ]
  },
  {
   "cell_type": "code",
   "execution_count": 17,
   "id": "5a6e4fbb-3d2f-44b5-b453-792f635b1f43",
   "metadata": {
    "tags": []
   },
   "outputs": [
    {
     "data": {
      "text/plain": [
       "'A'"
      ]
     },
     "execution_count": 17,
     "metadata": {},
     "output_type": "execute_result"
    }
   ],
   "source": [
    "def shift_by_letter(letter, letter_shift):\n",
    "    '''Shift By Letter.\n",
    "    10 points.\n",
    "\n",
    "    Shift a letter to the right using the number equivalent of another letter.\n",
    "    The shift letter is any letter from A to Z, where A represents 0, B represents 1,\n",
    "        ..., Z represents 25.\n",
    "\n",
    "    Examples:\n",
    "    shift_by_letter(\"A\", \"A\") -> \"A\"\n",
    "    shift_by_letter(\"A\", \"C\") -> \"C\"\n",
    "    shift_by_letter(\"B\", \"K\") -> \"L\"\n",
    "    shift_by_letter(\" \", _) -> \" \"\n",
    "\n",
    "    Parameters\n",
    "    ----------\n",
    "    letter: str\n",
    "        a single uppercase English letter, or a space.\n",
    "    letter_shift: str\n",
    "        a single uppercase English letter.\n",
    "\n",
    "    Returns\n",
    "    -------\n",
    "    str\n",
    "        the letter, shifted appropriately.\n",
    "    '''\n",
    "    # Replace `pass` with your code.\n",
    "    # Stay within the function. Only use the parameters as input. The function should return your answer.\n",
    "    if letter == \" \":\n",
    "        return \" \"\n",
    "\n",
    "    if len(letter) != 1 or not letter.isalpha() or not letter.isupper() or len(letter_shift) != 1 or not letter_shift.isalpha() or not letter_shift.isupper():\n",
    "        return \"Invalid input. Expected a single uppercase English letter or a space.\"\n",
    "\n",
    "    alphabet = \"ABCDEFGHIJKLMNOPQRSTUVWXYZ\"\n",
    "    letter_index = alphabet.index(letter)\n",
    "    shift_index = alphabet.index(letter_shift)\n",
    "    shifted_index = (letter_index + shift_index) % len(alphabet)\n",
    "    shifted_letter = alphabet[shifted_index]\n",
    "\n",
    "    return shifted_letter\n",
    "\n",
    "shift_by_letter('B','Z')"
   ]
  },
  {
   "cell_type": "code",
   "execution_count": 27,
   "id": "4ded7fcd-88b1-450d-8d40-ca33c8f0dc13",
   "metadata": {
    "tags": []
   },
   "outputs": [
    {
     "data": {
      "text/plain": [
       "'VSLQXCHX'"
      ]
     },
     "execution_count": 27,
     "metadata": {},
     "output_type": "execute_result"
    }
   ],
   "source": [
    "def vigenere_cipher(message, key):\n",
    "    '''Vigenere Cipher.\n",
    "    15 points.\n",
    "\n",
    "    Encrypts a message using a keyphrase instead of a static number.\n",
    "    Every letter in the message is shifted by the number represented by the\n",
    "        respective letter in the key.\n",
    "    Spaces should be ignored.\n",
    "\n",
    "    Example:\n",
    "    vigenere_cipher(\"A C\", \"KEY\") -> \"K A\"\n",
    "\n",
    "    If needed, the keyphrase is extended to match the length of the key.\n",
    "        If the key is \"KEY\" and the message is \"LONGTEXT\",\n",
    "        the key will be extended to be \"KEYKEYKE\".\n",
    "\n",
    "    Parameters\n",
    "    ----------\n",
    "    message: str\n",
    "        a string of uppercase English letters and spaces.\n",
    "    key: str\n",
    "        a string of uppercase English letters. Will never be longer than the message.\n",
    "        Will never contain spaces.\n",
    "\n",
    "    Returns\n",
    "    -------\n",
    "    str\n",
    "        the message, shifted appropriately.\n",
    "    '''\n",
    "    # Replace `pass` with your code.\n",
    "    # Stay within the function. Only use the parameters as input. The function should return your answer.\n",
    "    message = message.replace(\" \", \"\")\n",
    "    message = message.replace(\" \", \"\")\n",
    "    key = key * ((len(message) // len(key)) + 1)\n",
    "    shifted_message = \"\"\n",
    "\n",
    "    for i in range(len(message)):\n",
    "        char = message[i]\n",
    "        key_char = key[i]\n",
    "        char_index = ord(char) - ord('A')\n",
    "        key_index = ord(key_char) - ord('A')\n",
    "        shifted_index = (char_index + key_index) % 26\n",
    "        shifted_char = chr(shifted_index + ord('A'))\n",
    "        shifted_message += shifted_char\n",
    "\n",
    "    return shifted_message\n",
    "vigenere_cipher('LONGTEXT','KEY')"
   ]
  },
  {
   "cell_type": "code",
   "execution_count": 1,
   "id": "70c33989-0cd3-45f4-a4fd-8104e897f85e",
   "metadata": {},
   "outputs": [
    {
     "data": {
      "text/plain": [
       "'IMNNA_FTAOIGROE'"
      ]
     },
     "execution_count": 1,
     "metadata": {},
     "output_type": "execute_result"
    }
   ],
   "source": [
    "def scytale_cipher(message, shift):\n",
    "    '''Scytale Cipher.\n",
    "    15 points.\n",
    "\n",
    "    Encrypts a message by simulating a scytale cipher.\n",
    "\n",
    "    A scytale is a cylinder around which you can wrap a long strip of\n",
    "        parchment that contained a string of apparent gibberish. The parchment,\n",
    "        when read using the scytale, would reveal a message due to every nth\n",
    "        letter now appearing next to each other, revealing a proper message.\n",
    "    This encryption method is obsolete and should never be used to encrypt\n",
    "        data in production settings.\n",
    "\n",
    "    You may read more about the method here:\n",
    "        https://en.wikipedia.org/wiki/Scytale\n",
    "\n",
    "    You may follow this algorithm to implement a scytale-style cipher:\n",
    "    1. Take a message to be encoded and a \"shift\" number.\n",
    "        For this example, we will use \"INFORMATION_AGE\" as\n",
    "        the message and 3 as the shift.\n",
    "    2. Check if the length of the message is a multiple of\n",
    "        the shift. If it is not, add additional underscores\n",
    "        to the end of the message until it is.\n",
    "        In this example, \"INFORMATION_AGE\" is already a multiple of 3,\n",
    "        so we will leave it alone.\n",
    "    3. This is the tricky part. Construct the encoded message.\n",
    "        For each index i in the encoded message, use the character at the index\n",
    "        (i // shift) + (len(message) // shift) * (i % shift) of the raw message.\n",
    "        If this number doesn't make sense, you can play around with the cipher at\n",
    "         https://dencode.com/en/cipher/scytale to try to understand it.\n",
    "    4. Return the encoded message. In this case,\n",
    "        the output should be \"IMNNA_FTAOIGROE\".\n",
    "\n",
    "    Example:\n",
    "    scytale_cipher(\"INFORMATION_AGE\", 3) -> \"IMNNA_FTAOIGROE\"\n",
    "    scytale_cipher(\"INFORMATION_AGE\", 4) -> \"IRIANMOGFANEOT__\"\n",
    "    scytale_cipher(\"ALGORITHMS_ARE_IMPORTANT\", 8) -> \"AOTSRIOALRH_EMRNGIMA_PTT\"\n",
    "\n",
    "    Parameters\n",
    "    ----------\n",
    "    message: str\n",
    "        a string of uppercase English letters and underscores (underscores represent spaces)\n",
    "    shift: int\n",
    "        a positive int that does not exceed the length of message\n",
    "\n",
    "    Returns\n",
    "    -------\n",
    "    str\n",
    "        the encoded message\n",
    "    '''\n",
    "    # Replace `pass` with your code.\n",
    "    # Stay within the function. Only use the parameters as input. The function should return your answer.\n",
    "    if len(message) % shift != 0:\n",
    "        message += '_' * (shift - len(message) % shift)\n",
    "\n",
    "    encoded_message = ''\n",
    "    length = len(message)\n",
    "\n",
    "    for i in range(length):\n",
    "        encoded_message += message[(i // shift) + (length // shift) * (i % shift)]\n",
    "\n",
    "    return encoded_message\n",
    "\n",
    "scytale_cipher('INFORMATION_AGE', 3)"
   ]
  },
  {
   "cell_type": "code",
   "execution_count": 15,
   "id": "ccde0482-4d62-4823-bf45-f83ae229bc1f",
   "metadata": {
    "tags": []
   },
   "outputs": [
    {
     "name": "stdout",
     "output_type": "stream",
     "text": [
      "INFORMATION_AGE\n"
     ]
    }
   ],
   "source": [
    "def scytale_decipher(message, shift):\n",
    "    if len(message) % shift != 0:\n",
    "        raise ValueError(\"Invalid message. Length is not a multiple of the shift.\")\n",
    "\n",
    "    decoded_message = ''\n",
    "    length = len(message)\n",
    "    rows = length // shift\n",
    "\n",
    "    for i in range(rows):\n",
    "        for j in range(shift):\n",
    "            index = i + j * rows\n",
    "            decoded_message += message[index]\n",
    "\n",
    "    return decoded_message\n",
    "\n",
    "result = scytale_decipher('IMNNA_FTAOIGROE', 6)\n",
    "print(result)"
   ]
  },
  {
   "cell_type": "code",
   "execution_count": null,
   "id": "51259bfb-62e3-466b-9f8a-4b26873690c9",
   "metadata": {},
   "outputs": [],
   "source": []
  }
 ],
 "metadata": {
  "kernelspec": {
   "display_name": "Python 3 (ipykernel)",
   "language": "python",
   "name": "python3"
  },
  "language_info": {
   "codemirror_mode": {
    "name": "ipython",
    "version": 3
   },
   "file_extension": ".py",
   "mimetype": "text/x-python",
   "name": "python",
   "nbconvert_exporter": "python",
   "pygments_lexer": "ipython3",
   "version": "3.10.9"
  }
 },
 "nbformat": 4,
 "nbformat_minor": 5
}
