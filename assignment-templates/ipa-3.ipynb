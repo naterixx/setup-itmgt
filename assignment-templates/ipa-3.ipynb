{
 "cells": [
  {
   "cell_type": "code",
   "execution_count": 7,
   "id": "22c343e5-fc2a-4371-a965-826fc10d5318",
   "metadata": {
    "tags": []
   },
   "outputs": [
    {
     "data": {
      "text/plain": [
       "'followed by'"
      ]
     },
     "execution_count": 7,
     "metadata": {},
     "output_type": "execute_result"
    }
   ],
   "source": [
    "def relationship_status(from_member, to_member, social_graph):\n",
    "    if from_member in social_graph and to_member in social_graph:\n",
    "        from_member_following = social_graph[from_member][\"following\"]\n",
    "        to_member_following = social_graph[to_member][\"following\"]\n",
    "        \n",
    "        if from_member in to_member_following and to_member in from_member_following:\n",
    "            return \"friends\"\n",
    "        elif from_member in to_member_following:\n",
    "            return \"follower\"\n",
    "        elif to_member in from_member_following:\n",
    "            return \"followed by\"\n",
    "\n",
    "    return \"no relationship\"\n",
    "\n",
    "social_graph = {\n",
    "    \"@bongolpoc\": {\n",
    "        \"first_name\": \"Joselito\",\n",
    "        \"last_name\": \"Olpoc\",\n",
    "        \"following\": []\n",
    "    },\n",
    "    \"@joaquin\": {\n",
    "        \"first_name\": \"Joaquin\",\n",
    "        \"last_name\": \"Gonzales\",\n",
    "        \"following\": [\"@chums\", \"@jobenilagan\"]\n",
    "    },\n",
    "    \"@chums\": {\n",
    "        \"first_name\": \"Matthew\",\n",
    "        \"last_name\": \"Uy\",\n",
    "        \"following\": [\"@bongolpoc\", \"@miketan\", \"@rudyang\", \"@joeilagan\"]\n",
    "    },\n",
    "    \"@jobenilagan\": {\n",
    "        \"first_name\": \"Joben\",\n",
    "        \"last_name\": \"Ilagan\",\n",
    "        \"following\": [\"@eeebeee\", \"@joeilagan\", \"@chums\", \"@joaquin\"]\n",
    "    },\n",
    "    \"@joeilagan\": {\n",
    "        \"first_name\": \"Joe\",\n",
    "        \"last_name\": \"Ilagan\",\n",
    "        \"following\": [\"@eeebeee\", \"@jobenilagan\", \"@chums\"]\n",
    "    },\n",
    "    \"@eeebeee\": {\n",
    "        \"first_name\": \"Elizabeth\",\n",
    "        \"last_name\": \"Ilagan\",\n",
    "        \"following\": [\"@jobenilagan\", \"@joeilagan\"]\n",
    "    },\n",
    "}\n",
    "\n",
    "relationship_status(\"@joaquin\", \"@chums\", social_graph)\n"
   ]
  },
  {
   "cell_type": "code",
   "execution_count": 8,
   "id": "8bd080fc-20f6-4539-b944-dc02185554c0",
   "metadata": {
    "tags": []
   },
   "outputs": [
    {
     "data": {
      "text/plain": [
       "'X'"
      ]
     },
     "execution_count": 8,
     "metadata": {},
     "output_type": "execute_result"
    }
   ],
   "source": [
    "def tic_tac_toe(board):\n",
    "    size = len(board)\n",
    "    \n",
    "    # Check rows\n",
    "    for row in board:\n",
    "        if row.count(row[0]) == size and row[0] != '':\n",
    "            return row[0]\n",
    "    \n",
    "    # Check columns\n",
    "    for col in range(size):\n",
    "        if all(board[row][col] == board[0][col] and board[0][col] != '' for row in range(size)):\n",
    "            return board[0][col]\n",
    "    \n",
    "    # Check diagonals\n",
    "    if all(board[i][i] == board[0][0] and board[0][0] != '' for i in range(size)):\n",
    "        return board[0][0]\n",
    "    \n",
    "    if all(board[i][size-i-1] == board[0][size-1] and board[0][size-1] != '' for i in range(size)):\n",
    "        return board[0][size-1]\n",
    "    \n",
    "    return \"NO WINNER\"\n",
    "\n",
    "board1 = [\n",
    "    ['X', 'X', 'O'],\n",
    "    ['O', 'X', 'O'],\n",
    "    ['O', '', 'X'],\n",
    "]\n",
    "\n",
    "board2 = [\n",
    "    ['X', 'X', 'O'],\n",
    "    ['O', 'X', 'O'],\n",
    "    ['', 'O', 'X'],\n",
    "]\n",
    "\n",
    "board3 = [\n",
    "    ['O', 'X', 'O'],\n",
    "    ['', 'O', 'X'],\n",
    "    ['X', 'X', 'O'],\n",
    "]\n",
    "\n",
    "board4 = [\n",
    "    ['X', 'X', 'X'],\n",
    "    ['O', 'X', 'O'],\n",
    "    ['O', '', 'O'],\n",
    "]\n",
    "\n",
    "board5 = [\n",
    "    ['X', 'X', 'O'],\n",
    "    ['O', 'X', 'O'],\n",
    "    ['X', '', 'O'],\n",
    "]\n",
    "\n",
    "board6 = [\n",
    "    ['X', 'X', 'O'],\n",
    "    ['O', 'X', 'O'],\n",
    "    ['X', '', ''],\n",
    "]\n",
    "\n",
    "board7 = [\n",
    "    ['X', 'X', 'O', ''],\n",
    "    ['O', 'X', 'O', 'O'],\n",
    "    ['X', '', '', 'O'],\n",
    "    ['O', 'X', '', ''],\n",
    "]\n",
    "\n",
    "tic_tac_toe(board1)\n",
    "\n"
   ]
  },
  {
   "cell_type": "code",
   "execution_count": 10,
   "id": "598e1f1d-fe52-4dfe-a254-b31df43ff54d",
   "metadata": {
    "tags": []
   },
   "outputs": [
    {
     "data": {
      "text/plain": [
       "45"
      ]
     },
     "execution_count": 10,
     "metadata": {},
     "output_type": "execute_result"
    }
   ],
   "source": [
    "def eta(first_stop, second_stop, route_map):\n",
    "    current_stop = first_stop\n",
    "    total_time = 0\n",
    "\n",
    "    while current_stop != second_stop:\n",
    "        next_stop = route_map[current_stop]['next_stop']\n",
    "        total_time += route_map[current_stop]['legs'][(current_stop, next_stop)]['travel_time_mins']\n",
    "        current_stop = next_stop\n",
    "\n",
    "    return total_time\n",
    "\n",
    "route_map = {\n",
    "    \"upd\": {\n",
    "        \"next_stop\": \"admu\",\n",
    "        \"legs\": {\n",
    "            (\"upd\", \"admu\"): {\n",
    "                \"travel_time_mins\": 10\n",
    "            }\n",
    "        }\n",
    "    },\n",
    "    \"admu\": {\n",
    "        \"next_stop\": \"dlsu\",\n",
    "        \"legs\": {\n",
    "            (\"admu\", \"dlsu\"): {\n",
    "                \"travel_time_mins\": 35\n",
    "            }\n",
    "        }\n",
    "    },\n",
    "    \"dlsu\": {\n",
    "        \"next_stop\": \"upd\",\n",
    "        \"legs\": {\n",
    "            (\"dlsu\", \"upd\"): {\n",
    "                \"travel_time_mins\": 55\n",
    "            }\n",
    "        }\n",
    "    }\n",
    "}\n",
    "\n",
    "eta(\"upd\", \"dlsu\", route_map)\n",
    "\n"
   ]
  },
  {
   "cell_type": "code",
   "execution_count": null,
   "id": "1d1a44d0-7e53-464b-bb09-8761cf4741e5",
   "metadata": {},
   "outputs": [],
   "source": []
  }
 ],
 "metadata": {
  "kernelspec": {
   "display_name": "Python 3 (ipykernel)",
   "language": "python",
   "name": "python3"
  },
  "language_info": {
   "codemirror_mode": {
    "name": "ipython",
    "version": 3
   },
   "file_extension": ".py",
   "mimetype": "text/x-python",
   "name": "python",
   "nbconvert_exporter": "python",
   "pygments_lexer": "ipython3",
   "version": "3.10.9"
  }
 },
 "nbformat": 4,
 "nbformat_minor": 5
}
