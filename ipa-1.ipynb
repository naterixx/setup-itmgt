{
 "cells": [
  {
   "cell_type": "code",
   "execution_count": 47,
   "id": "6649bc00-8827-46c2-9baf-068bc2b00372",
   "metadata": {
    "tags": []
   },
   "outputs": [
    {
     "name": "stdin",
     "output_type": "stream",
     "text": [
      "Please input your gross salary in centavos: 69000\n",
      "Please input the current tax rate (value between 0 and 1): 0.42\n",
      "Please input your expenses in centavos: 2100\n"
     ]
    },
    {
     "data": {
      "text/plain": [
       "37920"
      ]
     },
     "execution_count": 47,
     "metadata": {},
     "output_type": "execute_result"
    }
   ],
   "source": [
    "def savings(gross_pay, tax_rate, expenses):\n",
    "    '''Savings.\n",
    "    5 points.\n",
    "\n",
    "    This function calculates the money remaining\n",
    "        for an employee after taxes and expenses.\n",
    "\n",
    "    To get the take-home pay of an employee, we will\n",
    "        follow the following process:\n",
    "        1. Apply the tax rate to the gross pay of the employee; round down\n",
    "        2. Subtract the expenses from the after-tax pay of the employee\n",
    "\n",
    "    Parameters\n",
    "    ----------\n",
    "    gross_pay: int\n",
    "        the gross pay of an employee for a certain time period, expressed in centavos\n",
    "    tax_rate: float\n",
    "        the tax rate for a certain time period, expressed as a number between 0 and 1 (e.g., 0.12)\n",
    "    expenses: int\n",
    "        the expenses of an employee for a certain time period, expressed in centavos\n",
    "\n",
    "    Returns\n",
    "    -------\n",
    "    int\n",
    "        the number of centavos remaining from an employee's pay after taxes and expenses\n",
    "    '''\n",
    "    # Replace `pass` with your code.\n",
    "    # Stay within the function. Only use the parameters as input. The function should return your answer.\n",
    "    gross_pay = int(input('Please input your gross salary in centavos:'))\n",
    "    tax_rate = float(input('Please input the current tax rate (value between 0 and 1):'))\n",
    "    expenses = int(input('Please input your expenses in centavos:'))\n",
    "    return(round(gross_pay-(gross_pay*tax_rate)-expenses))\n",
    "\n",
    "savings(gross_pay,tax_rate,expenses)"
   ]
  },
  {
   "cell_type": "code",
   "execution_count": 41,
   "id": "22f2b42b-21da-4970-a146-5a171d13c6cd",
   "metadata": {
    "tags": []
   },
   "outputs": [
    {
     "name": "stdin",
     "output_type": "stream",
     "text": [
      "Please input the total available material: 9\n",
      "Please input the unit of measurement for the material: kg\n",
      "Please input the number of jobs to run: 2\n",
      "Please input the amount of material used per job: 3\n"
     ]
    },
    {
     "data": {
      "text/plain": [
       "'3kg'"
      ]
     },
     "execution_count": 41,
     "metadata": {},
     "output_type": "execute_result"
    }
   ],
   "source": [
    "def material_waste(total_material, material_units, num_jobs, job_consumption):\n",
    "    '''Material Waste.\n",
    "    5 points.\n",
    "\n",
    "    This function calculates how much material input will be wasted\n",
    "        after running a certain number of jobs that consume\n",
    "        a set amount of material.\n",
    "\n",
    "    To get the waste of a set of jobs:\n",
    "        1. Multiply the number of jobs by the material consumption per job.\n",
    "        2. Subtract the total material consumed from the total material available.\n",
    "\n",
    "    The users of this function also want you to format the output as a string, annotated with the\n",
    "        units in which the material is expressed. Do not add a space between the number and the unit.\n",
    "\n",
    "    Parameters\n",
    "    ----------\n",
    "    total_material: int\n",
    "        the total material available\n",
    "    material_units: str\n",
    "        the units used to express a quantity of the material (e.g., \"kg\", \"L\", etc.)\n",
    "    num_jobs: int\n",
    "        the number of jobs to run\n",
    "    job_consumption: int\n",
    "        the amount of material consumed per job\n",
    "\n",
    "    Returns\n",
    "    -------\n",
    "    str\n",
    "        the amount of remaining material expressed with its unit (e.g., \"10kg\").\n",
    "    '''\n",
    "    # Replace `pass` with your code.\n",
    "    # Stay within the function. Only use the parameters as input. The function should return your answer.\n",
    "    total_material = int(input('Please input the total available material:'))\n",
    "    material_units = str(input('Please input the unit of measurement for the material:'))\n",
    "    num_jobs = int(input('Please input the number of jobs to run:'))\n",
    "    job_consumption = int(input('Please input the amount of material used per job:'))\n",
    "    return(str(total_material-job_consumption*num_jobs)+material_units)\n",
    "    \n",
    "    \n",
    "material_waste(total_material,material_units,num_jobs,job_consumption)\n"
   ]
  },
  {
   "cell_type": "code",
   "execution_count": 46,
   "id": "2547003d-c241-4f93-8ca7-e554fa7acc07",
   "metadata": {},
   "outputs": [
    {
     "name": "stdin",
     "output_type": "stream",
     "text": [
      "Please enter your principal investment: 9000\n",
      "Please enter the interest rate per period in decimal format: 0.23\n",
      "Please enter the number of periods the principal is invested: 6\n"
     ]
    },
    {
     "data": {
      "text/plain": [
       "21420"
      ]
     },
     "execution_count": 46,
     "metadata": {},
     "output_type": "execute_result"
    }
   ],
   "source": [
    "def interest(principal, rate, periods):\n",
    "    '''Interest.\n",
    "    5 points.\n",
    "\n",
    "    This function calculates the final value of an investment after\n",
    "        gaining simple interest over a number of periods.\n",
    "\n",
    "    To calculate simple interest, simply multiply the principal to the quantity (rate * time).\n",
    "        Add this amount to the principal to get the final value.\n",
    "\n",
    "    Round down the final amount.\n",
    "\n",
    "    Parameters\n",
    "    ----------\n",
    "    principal: int\n",
    "        the principal (i.e., starting) amount invested, expressed in centavos\n",
    "    rate: float\n",
    "        the interest rate per period, expressed as a decimal representation of a percentage (e.g., 3% is 0.03)\n",
    "    periods: int\n",
    "        the number of periods invested\n",
    "\n",
    "    Returns\n",
    "    -------\n",
    "    int\n",
    "        the final value of the investment\n",
    "    '''\n",
    "    # Replace `pass` with your code.\n",
    "    # Stay within the function. Only use the parameters as input. The function should return your answer.\n",
    "    principal = int(input('Please enter your principal investment:'))\n",
    "    rate = float(input('Please enter the interest rate per period in decimal format:'))\n",
    "    periods = int(input('Please enter the number of periods the principal is invested:'))\n",
    "    return(round(principal+principal*rate*periods))\n",
    "\n",
    "interest(principal, rate, periods)"
   ]
  },
  {
   "cell_type": "code",
   "execution_count": 59,
   "id": "7c7840a8-bf6b-416f-a922-f9f74379b2f4",
   "metadata": {
    "tags": []
   },
   "outputs": [
    {
     "name": "stdout",
     "output_type": "stream",
     "text": [
      "BMI: 25.842696087828642\n"
     ]
    }
   ],
   "source": [
    "def body_mass_index(weight, height):\n",
    "    '''Body Mass Index.\n",
    "    5 points.\n",
    "\n",
    "    This function calculates the body mass index (BMI) of a person\n",
    "        given their weight and height.\n",
    "\n",
    "    The formula for BMI is: kg / (m ^ 2)\n",
    "        (i.e., kilograms over meters squared)\n",
    "\n",
    "    Unfortunately, the users of this function use the imperial system.\n",
    "        You will need to first convert their arguments to the metric system.\n",
    "\n",
    "    Parameters\n",
    "    ----------\n",
    "    weight: float\n",
    "        the weight of the person, in pounds\n",
    "    height: list\n",
    "        the height of the person, expressed as a list of two integers.\n",
    "        the first integer is the foot component of their height.\n",
    "        the second integer is the inches component of their height.\n",
    "        for example, 5'10\" would be passed as [5, 10].\n",
    "\n",
    "    We have not yet discussed lists, but use the skills you developed\n",
    "        in the command line exercise. How would you learn how to work with\n",
    "        lists?\n",
    "\n",
    "    Returns\n",
    "    -------\n",
    "    float\n",
    "        the BMI of the person.\n",
    "    '''\n",
    "    # Replace `pass` with your code.\n",
    "    # Stay within the function. Only use the parameters as input. The function should return your answer.\n",
    "    weight_kg = weight * 0.453592\n",
    "\n",
    "    # Convert height from feet and inches to meters\n",
    "    height_feet = height[0]\n",
    "    height_inches = height[1]\n",
    "    total_height_inches = (height_feet * 12) + height_inches\n",
    "    height_m = total_height_inches * 0.0254\n",
    "\n",
    "    # Calculate BMI\n",
    "    bmi = weight_kg / (height_m ** 2)\n",
    "\n",
    "    return bmi\n",
    "\n",
    "weight_pounds = 175.0\n",
    "height_list = [5, 9]\n",
    "bmi_result = body_mass_index(weight_pounds, height_list)\n",
    "print(\"BMI:\", bmi_result)"
   ]
  },
  {
   "cell_type": "code",
   "execution_count": null,
   "id": "87fb9586-de56-4bbf-b1c7-c1333d1a3552",
   "metadata": {},
   "outputs": [],
   "source": []
  }
 ],
 "metadata": {
  "kernelspec": {
   "display_name": "Python 3 (ipykernel)",
   "language": "python",
   "name": "python3"
  },
  "language_info": {
   "codemirror_mode": {
    "name": "ipython",
    "version": 3
   },
   "file_extension": ".py",
   "mimetype": "text/x-python",
   "name": "python",
   "nbconvert_exporter": "python",
   "pygments_lexer": "ipython3",
   "version": "3.10.9"
  }
 },
 "nbformat": 4,
 "nbformat_minor": 5
}
